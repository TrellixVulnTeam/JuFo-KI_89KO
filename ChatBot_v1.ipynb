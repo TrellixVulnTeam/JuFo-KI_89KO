{
  "nbformat": 4,
  "nbformat_minor": 0,
  "metadata": {
    "colab": {
      "name": "ChatBot_With_Seq2Seq(1).ipynb",
      "private_outputs": true,
      "provenance": [],
      "collapsed_sections": [],
      "toc_visible": true
    },
    "kernelspec": {
      "name": "python3",
      "display_name": "Python 3",
      "language": "python"
    },
    "accelerator": "GPU"
  },
  "cells": [
    {
      "cell_type": "code",
      "metadata": {
        "id": "UgZHR8TO0lFF"
      },
      "source": [
        "import numpy as np\n",
        "import tensorflow as tf\n",
        "import pickle\n",
        "import os\n",
        "import yaml\n",
        "import re"
      ],
      "execution_count": null,
      "outputs": []
    },
    {
      "cell_type": "code",
      "metadata": {
        "id": "RzTBhga6MiV7"
      },
      "source": [
        "dir_path = r'C:\\Users\\ludwi\\Desktop\\JuFo_DeepLearning\\ChatbotData'\n",
        "files = os.listdir(dir_path + os.sep)\n",
        "\n",
        "fragen = list()\n",
        "antworten = list()\n",
        "\n",
        "for path in files:\n",
        "    f = open( dir_path + os.sep + path , 'rb')\n",
        "    docs = yaml.safe_load(f)\n",
        "    chat = docs['conversations']\n",
        "    for con in chat:\n",
        "        if len( con ) > 2 :\n",
        "            fragen.append(con[0])\n",
        "            replies = con[ 1 : ]\n",
        "            ans = ''\n",
        "            for rep in replies:\n",
        "                ans += ' ' + rep\n",
        "            antworten.append( ans )\n",
        "        elif len( con )> 1:\n",
        "            fragen.append(con[0])\n",
        "            antworten.append(con[1])\n",
        "\n",
        "antworten_mit_tags = list()\n",
        "\n",
        "for i in range( len( antworten ) ):\n",
        "    if type( antworten[i] ) == str:\n",
        "        antworten_mit_tags.append( antworten[i] )\n",
        "    else:\n",
        "        fragen.pop( i )\n",
        "\n",
        "antworten = list()\n",
        "\n",
        "for i in range( len( antworten_mit_tags ) ) :\n",
        "    antworten.append( '<START> ' + antworten_mit_tags[i] + ' <END>' )\n",
        "\n",
        "tokenizer = tf.keras.preprocessing.text.Tokenizer()\n",
        "tokenizer.fit_on_texts( fragen + antworten )\n",
        "VOCAB_SIZE = len( tokenizer.word_index )+1\n",
        "#print( 'VOCAB SIZE : ',VOCAB_SIZE ))\n"
      ],
      "execution_count": null,
      "outputs": []
    },
    {
      "cell_type": "code",
      "metadata": {
        "id": "a5AD9ooQKc33"
      },
      "source": [
        "# encoder_input_data\n",
        "tokenized_fragen = tokenizer.texts_to_sequences( fragen )\n",
        "maxlen_fragen = max( [ len(x) for x in tokenized_fragen ] )\n",
        "padded_fragen = tf.keras.preprocessing.sequence.pad_sequences( tokenized_fragen , maxlen=maxlen_fragen , padding='post' )\n",
        "encoder_input_data = np.array( padded_fragen )\n",
        "\n",
        "# decoder_input_data\n",
        "tokenized_antworten = tokenizer.texts_to_sequences( antworten )\n",
        "maxlen_antworten = max( [ len(x) for x in tokenized_antworten ] )\n",
        "padded_antworten = tf.keras.preprocessing.sequence.pad_sequences( tokenized_antworten , maxlen=maxlen_antworten , padding='post' )\n",
        "decoder_input_data = np.array( padded_antworten )\n",
        "\n",
        "# decoder_output_data\n",
        "tokenized_antworten = tokenizer.texts_to_sequences( antworten )\n",
        "\n",
        "for i in range(len(tokenized_antworten)) :\n",
        "    tokenized_antworten[i] = tokenized_antworten[i][1:]\n",
        "padded_antworten = tf.keras.preprocessing.sequence.pad_sequences( tokenized_antworten , maxlen=maxlen_antworten , padding='post' )\n",
        "onehot_antworten = tf.keras.utils.to_categorical( padded_antworten , VOCAB_SIZE )\n",
        "decoder_output_data = np.array( onehot_antworten )"
      ],
      "execution_count": null,
      "outputs": []
    },
    {
      "cell_type": "code",
      "metadata": {
        "id": "-gUYtOwv21rt"
      },
      "source": [
        "encoder_inputs = tf.keras.layers.Input(shape=( maxlen_fragen , ))\n",
        "encoder_embedding = tf.keras.layers.Embedding( VOCAB_SIZE, 200 , mask_zero=True ) (encoder_inputs)\n",
        "encoder_outputs , state_h , state_c = tf.keras.layers.LSTM( 200 , return_state=True )( encoder_embedding )\n",
        "encoder_states = [ state_h , state_c ]\n",
        "\n",
        "decoder_inputs = tf.keras.layers.Input(shape=( maxlen_antworten ,  ))\n",
        "decoder_embedding = tf.keras.layers.Embedding( VOCAB_SIZE, 200 , mask_zero=True) (decoder_inputs)\n",
        "decoder_lstm = tf.keras.layers.LSTM( 200 , return_state=True , return_sequences=True )\n",
        "decoder_outputs , _ , _ = decoder_lstm ( decoder_embedding , initial_state=encoder_states )\n",
        "decoder_dense = tf.keras.layers.Dense( VOCAB_SIZE , activation=tf.keras.activations.softmax ) \n",
        "output = decoder_dense ( decoder_outputs )\n",
        "\n",
        "model = tf.keras.models.Model([encoder_inputs, decoder_inputs], output )\n",
        "model.compile(optimizer=tf.keras.optimizers.RMSprop(), loss='categorical_crossentropy')\n",
        "\n",
        "model.summary(200)\n"
      ],
      "execution_count": null,
      "outputs": []
    },
    {
      "cell_type": "code",
      "execution_count": null,
      "metadata": {},
      "outputs": [],
      "source": [
        "logdir=str(r'C:\\Users\\ludwi\\Desktop\\JuFo_DeepLearning\\TensorBoard' + r'\\AutoEncoder-Chatbot')\n",
        "tensorboard_callback = tf.keras.callbacks.TensorBoard(log_dir=logdir)"
      ]
    },
    {
      "cell_type": "code",
      "metadata": {
        "id": "N74NZnfo3Id-"
      },
      "source": [
        "\n",
        "model.fit([encoder_input_data , decoder_input_data], decoder_output_data, batch_size=50, epochs=150, callbacks=[tensorboard_callback] )\n"
      ],
      "execution_count": null,
      "outputs": []
    },
    {
      "cell_type": "code",
      "metadata": {
        "id": "1u5DE4qo3Mf2"
      },
      "source": [
        "def make_inference_models():\n",
        "    \n",
        "    encoder_model = tf.keras.models.Model(encoder_inputs, encoder_states)\n",
        "    \n",
        "    decoder_state_input_h = tf.keras.layers.Input(shape=( 200 ,))\n",
        "    decoder_state_input_c = tf.keras.layers.Input(shape=( 200 ,))\n",
        "    \n",
        "    decoder_states_inputs = [decoder_state_input_h, decoder_state_input_c]\n",
        "    \n",
        "    decoder_outputs, state_h, state_c = decoder_lstm(\n",
        "        decoder_embedding , initial_state=decoder_states_inputs)\n",
        "    decoder_states = [state_h, state_c]\n",
        "    decoder_outputs = decoder_dense(decoder_outputs)\n",
        "    decoder_model = tf.keras.models.Model(\n",
        "        [decoder_inputs] + decoder_states_inputs,\n",
        "        [decoder_outputs] + decoder_states)\n",
        "    \n",
        "    return encoder_model , decoder_model\n"
      ],
      "execution_count": null,
      "outputs": []
    },
    {
      "cell_type": "code",
      "metadata": {
        "id": "5P_wDD554q9O"
      },
      "source": [
        "def str_to_tokens( sentence : str ):\n",
        "    words = sentence.lower().split()\n",
        "    tokens_list = list()\n",
        "    for word in words:\n",
        "        tokens_list.append( tokenizer.word_index[ word ] ) \n",
        "    return tf.keras.preprocessing.sequence.pad_sequences( [tokens_list] , maxlen=maxlen_fragen , padding='post')"
      ],
      "execution_count": null,
      "outputs": []
    },
    {
      "cell_type": "markdown",
      "metadata": {
        "id": "OxS2qE0XBN_K"
      },
      "source": [
        "crash bei unbekanntem wort"
      ]
    },
    {
      "cell_type": "code",
      "metadata": {
        "id": "2zBmN8qB3O-e"
      },
      "source": [
        "enc_model , dec_model = make_inference_models()\n",
        "\n",
        "while True:\n",
        "    states_values = enc_model.predict( str_to_tokens( input( 'Enter question : ' ) ) )\n",
        "    empty_target_seq = np.zeros( ( 1 , 1 ) )\n",
        "    empty_target_seq[0, 0] = tokenizer.word_index['start']\n",
        "\n",
        "    stop_condition = False\n",
        "    decoded_translation = ''\n",
        "    while not stop_condition :\n",
        "        dec_outputs , h , c = dec_model.predict([ empty_target_seq ] + states_values )\n",
        "        sampled_word_index = np.argmax( dec_outputs[0, -1, :] )\n",
        "        sampled_word = None\n",
        "        for word , index in tokenizer.word_index.items() :\n",
        "            if sampled_word_index == index :\n",
        "                decoded_translation += ' ' + word\n",
        "                sampled_word = word\n",
        "        \n",
        "        if sampled_word == 'end' or len(decoded_translation.split()) > maxlen_antworten:\n",
        "            stop_condition = True\n",
        "            \n",
        "        empty_target_seq = np.zeros( ( 1 , 1 ) )  \n",
        "        empty_target_seq[ 0 , 0 ] = sampled_word_index\n",
        "        states_values = [ h , c ] \n",
        "\n",
        "    print( decoded_translation )\n"
      ],
      "execution_count": null,
      "outputs": []
    }
  ]
}