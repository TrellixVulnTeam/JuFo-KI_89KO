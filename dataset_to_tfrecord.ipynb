{
 "metadata": {
  "language_info": {
   "codemirror_mode": {
    "name": "ipython",
    "version": 3
   },
   "file_extension": ".py",
   "mimetype": "text/x-python",
   "name": "python",
   "nbconvert_exporter": "python",
   "pygments_lexer": "ipython3",
   "version": "3.8.5-final"
  },
  "orig_nbformat": 2,
  "kernelspec": {
   "name": "Python 3.8.5 64-bit",
   "display_name": "Python 3.8.5 64-bit",
   "metadata": {
    "interpreter": {
     "hash": "88c868043d491be41893a986199a271c8f7cdf96096198bb60f65bb33871cab0"
    }
   }
  }
 },
 "nbformat": 4,
 "nbformat_minor": 2,
 "cells": [
  {
   "cell_type": "code",
   "execution_count": null,
   "metadata": {},
   "outputs": [],
   "source": [
    "import tensorflow as tf\n",
    "import os\n",
    "import numpy as np\n",
    "import matplotlib.pyplot as plt\n",
    "import time\n",
    "import gc"
   ]
  },
  {
   "cell_type": "code",
   "execution_count": null,
   "metadata": {},
   "outputs": [],
   "source": [
    "items_per_file = 2 #int(input(\"Bitte geben sie die Anzahl der Einträge pro Datei an:\"))\n",
    "name =\"center_single\"  #input(\"Bitte den Namen der zu erstellenden Datein angeben:\")\n",
    "data_source =r'C:\\Users\\ludwi\\Desktop\\JuFo_DeepLearning\\Generiere_daten\\test' #input(\"Bitte .npz Zielordner angeben:\")\n",
    "save_to =r'C:\\Users\\ludwi\\Desktop\\JuFo_DeepLearning\\Generiere_daten\\test' #input(\"Bitte Zielordner für TFRecord angeben:\")"
   ]
  },
  {
   "cell_type": "code",
   "execution_count": null,
   "metadata": {},
   "outputs": [],
   "source": [
    "def load_data_py(file_path):\n",
    "    return np.load(file_path.numpy())['image'], np.load(file_path.numpy())['target']\n",
    "\n",
    "def load_data(file_path):\n",
    "    return tf.py_function(func=load_data_py, inp=[file_path], Tout=[tf.int16, tf.int16])\n",
    "\n",
    "def reshape(x, y):\n",
    "    X = tf.reshape(x, [16, 160, 160])\n",
    "    Y = tf.reshape(y, [])\n",
    "    return X, Y"
   ]
  },
  {
   "cell_type": "code",
   "execution_count": null,
   "metadata": {},
   "outputs": [],
   "source": [
    "dataset = tf.data.Dataset.list_files(data_source + '\\*.npz')\n",
    "dataset = dataset.map(load_data, tf.data.experimental.AUTOTUNE)\n",
    "dataset = dataset.map(reshape, tf.data.experimental.AUTOTUNE)"
   ]
  },
  {
   "cell_type": "code",
   "execution_count": null,
   "metadata": {},
   "outputs": [],
   "source": [
    "def serialize_example(image, label):\n",
    "    feature = {\n",
    "        \"image\": tf.train.Feature(bytes_list=tf.train.BytesList(value=[tf.io.serialize_tensor(image).numpy()])),\n",
    "        \"label\": tf.train.Feature(bytes_list=tf.train.BytesList(value=[tf.io.serialize_tensor(label).numpy()])),\n",
    "    }\n",
    "    example_proto = tf.train.Example(features=tf.train.Features(feature=feature))\n",
    "    return example_proto.SerializeToString()\n",
    "\n",
    "def tf_serialize_example(image, label):\n",
    "    data = tf.py_function(func=serialize_example, inp=[image, label], Tout=tf.string)\n",
    "    return tf.reshape(data, ())"
   ]
  },
  {
   "cell_type": "code",
   "execution_count": null,
   "metadata": {},
   "outputs": [],
   "source": [
    "dataset = dataset.map(tf_serialize_example, tf.data.experimental.AUTOTUNE)\n",
    "dataset = dataset.batch(items_per_file)"
   ]
  },
  {
   "cell_type": "code",
   "execution_count": null,
   "metadata": {},
   "outputs": [],
   "source": [
    "def write_generator():\n",
    "    i = 0\n",
    "    iterator = iter(dataset)\n",
    "    optional = iterator.get_next_as_optional()\n",
    "    while optional.has_value().numpy():\n",
    "        ds = optional.get_value()\n",
    "        optional = iterator.get_next_as_optional()\n",
    "        batch_ds = tf.data.Dataset.from_tensor_slices(ds)\n",
    "        writer = tf.data.experimental.TFRecordWriter(save_to + \"\\\\\" + name + \"-\" + str(i) + \".tfrecord\", compression_type='GZIP')#compression_type='GZIP'\n",
    "        i += 1\n",
    "        yield batch_ds, writer, i, optional.has_value().numpy()\n",
    "    return"
   ]
  },
  {
   "cell_type": "code",
   "execution_count": null,
   "metadata": {
    "tags": []
   },
   "outputs": [],
   "source": [
    "for data, wri, i in write_generator():\n",
    "    start_time = time.time()\n",
    "    wri.write(data)\n",
    "    print(\"Dauer war: \", time.time() - start_time, \"s\", \"\\t\", name + \"-\" + str(i) + \".tfrecord\")\n",
    "    gc.collect()"
   ]
  },
  {
   "cell_type": "code",
   "execution_count": null,
   "metadata": {},
   "outputs": [],
   "source": [
    "print(\"______________________________________________________\")\n",
    "print(\"*fertig*\")"
   ]
  }
 ]
}